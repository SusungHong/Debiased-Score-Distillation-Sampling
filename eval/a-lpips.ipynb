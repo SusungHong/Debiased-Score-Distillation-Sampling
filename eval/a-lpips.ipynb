{
 "cells": [
  {
   "cell_type": "code",
   "execution_count": 5,
   "metadata": {},
   "outputs": [
    {
     "name": "stdout",
     "output_type": "stream",
     "text": [
      "Setting up [LPIPS] perceptual loss: trunk [vgg], v[0.1], spatial [off]\n",
      "Loading model from: /home/susung/ENTER/envs/cats/lib/python3.7/site-packages/lpips/weights/v0.1/vgg.pth\n"
     ]
    }
   ],
   "source": [
    "import torch\n",
    "import clip\n",
    "import os\n",
    "import numpy as np\n",
    "import lpips\n",
    "from PIL import Image, ImageFilter\n",
    "\n",
    "device = \"cuda\" if torch.cuda.is_available() else \"cpu\"\n",
    "model, preprocess = clip.load(\"ViT-B/32\", device=device)\n",
    "loss_fn = lpips.LPIPS(net='vgg').cuda()"
   ]
  },
  {
   "cell_type": "code",
   "execution_count": 6,
   "metadata": {},
   "outputs": [
    {
     "name": "stdout",
     "output_type": "stream",
     "text": [
      "calculating baseline\n",
      "calculating clip\n",
      "calculating clipmut\n"
     ]
    }
   ],
   "source": [
    "period = 2 # should divide 100\n",
    "dir_list = os.listdir()\n",
    "vecs = {}\n",
    "vals = {}\n",
    "for exp in ['baseline', 'clip', 'clipmut']:\n",
    "    print(f'calculating {exp}')\n",
    "    vecs[exp] = {}\n",
    "    vals[exp] = []\n",
    "    for dir in dir_list:\n",
    "        # if dir != \"a smiling _cat\":\n",
    "        #     continue\n",
    "        vecs[exp][dir] = []\n",
    "        if not os.path.isdir(dir):\n",
    "            continue\n",
    "        pngs = sorted(os.listdir(os.path.join(dir, exp)))\n",
    "        max_val = 0\n",
    "        for i, im in enumerate(pngs):\n",
    "            im_path = os.path.join(dir, exp, im)\n",
    "            image = preprocess(Image.open(im_path)).unsqueeze(0).to(device)\n",
    "            vecs[exp][dir].append(image)\n",
    "            if len(vecs[exp][dir]) == 2:\n",
    "                with torch.no_grad():\n",
    "                    var = loss_fn(vecs[exp][dir][0], vecs[exp][dir][1])\n",
    "                vecs[exp][dir].pop(0)\n",
    "                max_val = 0\n",
    "                vals[exp].append(var.mean())\n",
    "\n"
   ]
  },
  {
   "cell_type": "code",
   "execution_count": 7,
   "metadata": {},
   "outputs": [
    {
     "data": {
      "text/plain": [
       "(tensor(0.2054, device='cuda:0'),\n",
       " tensor(0.1963, device='cuda:0'),\n",
       " tensor(0.1940, device='cuda:0'),\n",
       " 70.0)"
      ]
     },
     "execution_count": 7,
     "metadata": {},
     "output_type": "execute_result"
    }
   ],
   "source": [
    "l = len(vals['baseline'])\n",
    "sum(vals['baseline']) / l, sum(vals['clip']) / l, sum(vals['clipmut']) / l, l/99"
   ]
  }
 ],
 "metadata": {
  "kernelspec": {
   "display_name": "py38",
   "language": "python",
   "name": "python3"
  },
  "language_info": {
   "codemirror_mode": {
    "name": "ipython",
    "version": 3
   },
   "file_extension": ".py",
   "mimetype": "text/x-python",
   "name": "python",
   "nbconvert_exporter": "python",
   "pygments_lexer": "ipython3",
   "version": "3.7.13"
  },
  "orig_nbformat": 4
 },
 "nbformat": 4,
 "nbformat_minor": 2
}
